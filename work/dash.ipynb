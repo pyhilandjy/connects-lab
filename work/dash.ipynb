{
 "cells": [
  {
   "cell_type": "code",
   "execution_count": 6,
   "metadata": {},
   "outputs": [],
   "source": [
    "from selenium import webdriver"
   ]
  },
  {
   "cell_type": "code",
   "execution_count": 13,
   "metadata": {},
   "outputs": [],
   "source": [
    "def initialize_webdriver(port):\n",
    "    # 4444, 4445, 4446\n",
    "    \"\"\"firefox 드라이버 연결\"\"\"\n",
    "    firefox_options = webdriver.FirefoxOptions()\n",
    "    # 웹 드라이버 초기화\n",
    "    driver = webdriver.Remote(\n",
    "        command_executor=f'http://localhost:{port}',  # Selenium Standalone Server 주소\n",
    "        options=firefox_options,\n",
    "    )\n",
    "    return driver\n"
   ]
  },
  {
   "cell_type": "code",
   "execution_count": 11,
   "metadata": {},
   "outputs": [],
   "source": [
    "jobs = [{\"port\":\"4444\",\"con_num\": \"1\"},{\"port\":\"4445\",\"con_num\": \"2\"},{\"port\":\"4446\",\"con_num\": \"3\"}]"
   ]
  },
  {
   "cell_type": "code",
   "execution_count": 16,
   "metadata": {},
   "outputs": [],
   "source": [
    "urls = [\"https://www.naver.com\", \"https://www.google.com\", \"https://www.instagram.com\"]\n",
    "\n",
    "for job, url in zip(jobs, urls):\n",
    "    driver = initialize_webdriver(job[\"port\"])\n",
    "    driver.get(url)\n",
    "    driver.close()"
   ]
  },
  {
   "cell_type": "code",
   "execution_count": 15,
   "metadata": {},
   "outputs": [],
   "source": [
    "driver.close()"
   ]
  },
  {
   "cell_type": "code",
   "execution_count": null,
   "metadata": {},
   "outputs": [],
   "source": [
    "def initialize_webdriver(port, con_num):\n",
    "    # 4444, 4445, 4446\n",
    "    \"\"\"firefox 드라이버 연결\"\"\"\n",
    "    firefox_options = webdriver.FirefoxOptions()\n",
    "    # 웹 드라이버 초기화\n",
    "    driver = webdriver.Remote(\n",
    "        command_executor=f'http://remote_firefox-{con_num}:{port}',  # Selenium Standalone Server 주소\n",
    "        options=firefox_options,\n",
    "    )\n",
    "    return driver\n"
   ]
  },
  {
   "cell_type": "code",
   "execution_count": null,
   "metadata": {},
   "outputs": [],
   "source": [
    "def crawl_instagram(user_names, port, con_num):\n",
    "    driver = initialize_webdriver(port, con_num)\n",
    "    driver.get(user_names)\n",
    "    print(user_names)"
   ]
  },
  {
   "cell_type": "code",
   "execution_count": null,
   "metadata": {},
   "outputs": [],
   "source": [
    "jobs = [{\"port\":\"4444\",\"con_num\": \"1\", \"user_names\":\"https://www.naver.com\"},\n",
    "        {\"port\":\"4445\",\"con_num\": \"2\", \"user_names\":\"https://www.google.com\"},\n",
    "        {\"port\":\"4446\",\"con_num\": \"3\", \"user_names\":\"https://www.instagram.com\"}]\n",
    "for idx, job in enumerate(jobs):\n",
    "    # chunk = usernames[i*chunk_size:(i+1)*chunk_size]\n",
    "    task = PythonOperator(\n",
    "        task_id=f'process_usernames_{idx+1}',\n",
    "        python_callable=crawl_instagram,\n",
    "        op_kwargs={'user_names': job[\"user_names\"], 'con_num': job[\"con_num\"], 'port': job[\"port\"]},\n",
    "        dag=dag,\n",
    "    )"
   ]
  }
 ],
 "metadata": {
  "kernelspec": {
   "display_name": "jun",
   "language": "python",
   "name": "python3"
  },
  "language_info": {
   "codemirror_mode": {
    "name": "ipython",
    "version": 3
   },
   "file_extension": ".py",
   "mimetype": "text/x-python",
   "name": "python",
   "nbconvert_exporter": "python",
   "pygments_lexer": "ipython3",
   "version": "3.9.16"
  },
  "orig_nbformat": 4
 },
 "nbformat": 4,
 "nbformat_minor": 2
}
